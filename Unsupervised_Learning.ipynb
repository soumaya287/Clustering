{
  "nbformat": 4,
  "nbformat_minor": 0,
  "metadata": {
    "colab": {
      "name": "Unsupervised Learning.ipynb",
      "provenance": [],
      "authorship_tag": "ABX9TyNxDv+jkeWBxQ1L+JsJp5yz",
      "include_colab_link": true
    },
    "kernelspec": {
      "name": "python3",
      "display_name": "Python 3"
    },
    "language_info": {
      "name": "python"
    }
  },
  "cells": [
    {
      "cell_type": "markdown",
      "metadata": {
        "id": "view-in-github",
        "colab_type": "text"
      },
      "source": [
        "<a href=\"https://colab.research.google.com/github/soumaya287/Clustering/blob/main/Unsupervised_Learning.ipynb\" target=\"_parent\"><img src=\"https://colab.research.google.com/assets/colab-badge.svg\" alt=\"Open In Colab\"/></a>"
      ]
    },
    {
      "cell_type": "markdown",
      "source": [
        "# Unsupervised Learning Definition\n",
        "Unsupervised learning is based on the concept of letting the machine learn the hidden patterns in unlabeled Datasets on it’s own.\n",
        "<img src=\"https://imgur.com/OgT9GsU.png\">\n",
        "# Supervised vs Unsupervised\n",
        "<img src=\"https://imgur.com/7XpV3PH.png\">\n",
        "\n",
        "[unsupervised VS supervised learning](https://machinelearningmastery.com/supervised-and-unsupervised-machine-learning-algorithms/)\n",
        "# Supervised vs Unsupervised Data\n",
        "* In a supervised learning problem, we have the corresponding output for each input. That's why we call it labeled data.\n",
        "\n",
        "Here's an example of a supervised learning dataset:\n",
        "<img src=\"https://imgur.com/vdceQwU.png\">\n",
        "* In unsupervised learning we only have the inputs and no output which means there are no labels and no correct answers. That's why we call it unlabeled data.\n",
        "<img src=\"https://imgur.com/Mo3zDTW.png\">\n",
        "\n",
        "[labelled Vs Unlabelled data](https://livebook.manning.com/book/grokking-machine-learning/2-1-what-is-the-difference-between-labelled-and-unlabelled-data-/v-4/20)\n",
        "\n",
        "Unsupervised machine learning is more closely aligned with what some call true artifiial intelligence; the idea that a computer can learn to identify complex processes and patterns without a human providing guidance along the way.While a supervised classification algorithm learns to assign labels to images of animals,its unsupervsed counterpart will look at inherent similarities between the images and separate them into groups accordingly,assigning a new label to each group.\n",
        "# Unsupervised Application\n",
        "<img src=\"https://imgur.com/8dZLZ6G.png\">\n",
        "\n",
        "**Facebook** uses Unsupervised Machine Learning algorithms to identify your presence in any of your friends’ pictures.\n",
        "\n",
        "To do that, it would process and scan all the images you have posted, take into consideration your posture, your face, and then identify **the unique features** of your face.\n",
        "\n",
        "[#other applications of unsupervised Learning](https://pythonistaplanet.com/applications-of-unsupervised-learning/)\n",
        "\n",
        "# Unsupervised Problems\n",
        "In unsupervised learning, machines explore the unlabeled dataset either to:\n",
        "\n",
        "* **Discover** the inherent groupings in the data. This process is called **Clustering**.\n",
        "<img src=\"https://imgur.com/m0YEveu.png\">\n",
        "\n",
        "[#clustering](https://towardsdatascience.com/clustering-unsupervised-learning-788b215b074b)\n",
        "* **Extract** rules that describe large portions of your data. This process is called **Association Rules**.\n",
        "(discovering interesting relationss between variables in large databases.It's intended to identify strong rules discovered in databases using different measures of interestingness.)\n",
        "\n",
        "<img src=\"https://imgur.com/vUTYhzz.png\">\n",
        "\n",
        "# REACP:\n",
        "* The difference between supervised and **unsupervised** learning is that **supervised** learning works on labeled datasets, unlike unsupervised that explores raw data without any labels.\n",
        "\n",
        "* In **unsupervised learning**, there are two problems: **Clustering** and **Association rules**.\n",
        "\n",
        "# Unsupervised Clustering\n",
        "The objective of clustering is to find different clusters (groups) within the elements in the data in a way that elements of the same cluster are more similar to each other than to those from different clusters.\n",
        "\n",
        "To further explain this, we can say that a cluster is a group of data points that are grouped together due to similarities in their features.\n",
        "\n"
      ],
      "metadata": {
        "id": "zkZ08MQL3bME"
      }
    },
    {
      "cell_type": "markdown",
      "source": [
        "**Clustering** Example\n",
        "Let's say you own a supermarket and you have some basic data like:\n",
        "\n",
        "Download the dataset .\n",
        "\n",
        "Customer ID.\n",
        "\n",
        "Age.\n",
        "\n",
        "Gender.\n",
        "\n",
        "Annual income: How much that individual earns.\n",
        "\n",
        "Spending score: A number assigned to the customer based on how frequently he comes to the supermarket and how much he spends.\n",
        "\n",
        "To have a better understanding of our customer's behavior, we are going to categorize our customers based on the previous features.\n",
        "[#other examples of clustering](https://machinelearningmastery.com/clustering-algorithms-with-python/)"
      ],
      "metadata": {
        "id": "azcQ5n0wDPl0"
      }
    },
    {
      "cell_type": "markdown",
      "source": [
        "# Clustering Preprocessing"
      ],
      "metadata": {
        "id": "2YZBB_18DjRI"
      }
    },
    {
      "cell_type": "code",
      "source": [
        "import pandas as pd\n",
        "data=pd.read_csv(\"Mall_Customers.csv\")\n",
        "\n",
        "data=data.drop(\"CustomerID\", axis=1)\n",
        "data[\"Gender\"]=data[\"Gender\"].map({\"Male\":1, \"Female\":0})  #convert Gender values into numerical\n",
        "data"
      ],
      "metadata": {
        "colab": {
          "base_uri": "https://localhost:8080/",
          "height": 423
        },
        "id": "8eHdHprDDAC1",
        "outputId": "9f15c1db-cccd-424b-da77-2ccf92a674f9"
      },
      "execution_count": null,
      "outputs": [
        {
          "output_type": "execute_result",
          "data": {
            "text/plain": [
              "     Gender  Age  Annual Income (k$)  Spending Score (1-100)\n",
              "0         1   19                  15                      39\n",
              "1         1   21                  15                      81\n",
              "2         0   20                  16                       6\n",
              "3         0   23                  16                      77\n",
              "4         0   31                  17                      40\n",
              "..      ...  ...                 ...                     ...\n",
              "195       0   35                 120                      79\n",
              "196       0   45                 126                      28\n",
              "197       1   32                 126                      74\n",
              "198       1   32                 137                      18\n",
              "199       1   30                 137                      83\n",
              "\n",
              "[200 rows x 4 columns]"
            ],
            "text/html": [
              "\n",
              "  <div id=\"df-45e0945e-3666-4797-9f36-bb6779361d60\">\n",
              "    <div class=\"colab-df-container\">\n",
              "      <div>\n",
              "<style scoped>\n",
              "    .dataframe tbody tr th:only-of-type {\n",
              "        vertical-align: middle;\n",
              "    }\n",
              "\n",
              "    .dataframe tbody tr th {\n",
              "        vertical-align: top;\n",
              "    }\n",
              "\n",
              "    .dataframe thead th {\n",
              "        text-align: right;\n",
              "    }\n",
              "</style>\n",
              "<table border=\"1\" class=\"dataframe\">\n",
              "  <thead>\n",
              "    <tr style=\"text-align: right;\">\n",
              "      <th></th>\n",
              "      <th>Gender</th>\n",
              "      <th>Age</th>\n",
              "      <th>Annual Income (k$)</th>\n",
              "      <th>Spending Score (1-100)</th>\n",
              "    </tr>\n",
              "  </thead>\n",
              "  <tbody>\n",
              "    <tr>\n",
              "      <th>0</th>\n",
              "      <td>1</td>\n",
              "      <td>19</td>\n",
              "      <td>15</td>\n",
              "      <td>39</td>\n",
              "    </tr>\n",
              "    <tr>\n",
              "      <th>1</th>\n",
              "      <td>1</td>\n",
              "      <td>21</td>\n",
              "      <td>15</td>\n",
              "      <td>81</td>\n",
              "    </tr>\n",
              "    <tr>\n",
              "      <th>2</th>\n",
              "      <td>0</td>\n",
              "      <td>20</td>\n",
              "      <td>16</td>\n",
              "      <td>6</td>\n",
              "    </tr>\n",
              "    <tr>\n",
              "      <th>3</th>\n",
              "      <td>0</td>\n",
              "      <td>23</td>\n",
              "      <td>16</td>\n",
              "      <td>77</td>\n",
              "    </tr>\n",
              "    <tr>\n",
              "      <th>4</th>\n",
              "      <td>0</td>\n",
              "      <td>31</td>\n",
              "      <td>17</td>\n",
              "      <td>40</td>\n",
              "    </tr>\n",
              "    <tr>\n",
              "      <th>...</th>\n",
              "      <td>...</td>\n",
              "      <td>...</td>\n",
              "      <td>...</td>\n",
              "      <td>...</td>\n",
              "    </tr>\n",
              "    <tr>\n",
              "      <th>195</th>\n",
              "      <td>0</td>\n",
              "      <td>35</td>\n",
              "      <td>120</td>\n",
              "      <td>79</td>\n",
              "    </tr>\n",
              "    <tr>\n",
              "      <th>196</th>\n",
              "      <td>0</td>\n",
              "      <td>45</td>\n",
              "      <td>126</td>\n",
              "      <td>28</td>\n",
              "    </tr>\n",
              "    <tr>\n",
              "      <th>197</th>\n",
              "      <td>1</td>\n",
              "      <td>32</td>\n",
              "      <td>126</td>\n",
              "      <td>74</td>\n",
              "    </tr>\n",
              "    <tr>\n",
              "      <th>198</th>\n",
              "      <td>1</td>\n",
              "      <td>32</td>\n",
              "      <td>137</td>\n",
              "      <td>18</td>\n",
              "    </tr>\n",
              "    <tr>\n",
              "      <th>199</th>\n",
              "      <td>1</td>\n",
              "      <td>30</td>\n",
              "      <td>137</td>\n",
              "      <td>83</td>\n",
              "    </tr>\n",
              "  </tbody>\n",
              "</table>\n",
              "<p>200 rows × 4 columns</p>\n",
              "</div>\n",
              "      <button class=\"colab-df-convert\" onclick=\"convertToInteractive('df-45e0945e-3666-4797-9f36-bb6779361d60')\"\n",
              "              title=\"Convert this dataframe to an interactive table.\"\n",
              "              style=\"display:none;\">\n",
              "        \n",
              "  <svg xmlns=\"http://www.w3.org/2000/svg\" height=\"24px\"viewBox=\"0 0 24 24\"\n",
              "       width=\"24px\">\n",
              "    <path d=\"M0 0h24v24H0V0z\" fill=\"none\"/>\n",
              "    <path d=\"M18.56 5.44l.94 2.06.94-2.06 2.06-.94-2.06-.94-.94-2.06-.94 2.06-2.06.94zm-11 1L8.5 8.5l.94-2.06 2.06-.94-2.06-.94L8.5 2.5l-.94 2.06-2.06.94zm10 10l.94 2.06.94-2.06 2.06-.94-2.06-.94-.94-2.06-.94 2.06-2.06.94z\"/><path d=\"M17.41 7.96l-1.37-1.37c-.4-.4-.92-.59-1.43-.59-.52 0-1.04.2-1.43.59L10.3 9.45l-7.72 7.72c-.78.78-.78 2.05 0 2.83L4 21.41c.39.39.9.59 1.41.59.51 0 1.02-.2 1.41-.59l7.78-7.78 2.81-2.81c.8-.78.8-2.07 0-2.86zM5.41 20L4 18.59l7.72-7.72 1.47 1.35L5.41 20z\"/>\n",
              "  </svg>\n",
              "      </button>\n",
              "      \n",
              "  <style>\n",
              "    .colab-df-container {\n",
              "      display:flex;\n",
              "      flex-wrap:wrap;\n",
              "      gap: 12px;\n",
              "    }\n",
              "\n",
              "    .colab-df-convert {\n",
              "      background-color: #E8F0FE;\n",
              "      border: none;\n",
              "      border-radius: 50%;\n",
              "      cursor: pointer;\n",
              "      display: none;\n",
              "      fill: #1967D2;\n",
              "      height: 32px;\n",
              "      padding: 0 0 0 0;\n",
              "      width: 32px;\n",
              "    }\n",
              "\n",
              "    .colab-df-convert:hover {\n",
              "      background-color: #E2EBFA;\n",
              "      box-shadow: 0px 1px 2px rgba(60, 64, 67, 0.3), 0px 1px 3px 1px rgba(60, 64, 67, 0.15);\n",
              "      fill: #174EA6;\n",
              "    }\n",
              "\n",
              "    [theme=dark] .colab-df-convert {\n",
              "      background-color: #3B4455;\n",
              "      fill: #D2E3FC;\n",
              "    }\n",
              "\n",
              "    [theme=dark] .colab-df-convert:hover {\n",
              "      background-color: #434B5C;\n",
              "      box-shadow: 0px 1px 3px 1px rgba(0, 0, 0, 0.15);\n",
              "      filter: drop-shadow(0px 1px 2px rgba(0, 0, 0, 0.3));\n",
              "      fill: #FFFFFF;\n",
              "    }\n",
              "  </style>\n",
              "\n",
              "      <script>\n",
              "        const buttonEl =\n",
              "          document.querySelector('#df-45e0945e-3666-4797-9f36-bb6779361d60 button.colab-df-convert');\n",
              "        buttonEl.style.display =\n",
              "          google.colab.kernel.accessAllowed ? 'block' : 'none';\n",
              "\n",
              "        async function convertToInteractive(key) {\n",
              "          const element = document.querySelector('#df-45e0945e-3666-4797-9f36-bb6779361d60');\n",
              "          const dataTable =\n",
              "            await google.colab.kernel.invokeFunction('convertToInteractive',\n",
              "                                                     [key], {});\n",
              "          if (!dataTable) return;\n",
              "\n",
              "          const docLinkHtml = 'Like what you see? Visit the ' +\n",
              "            '<a target=\"_blank\" href=https://colab.research.google.com/notebooks/data_table.ipynb>data table notebook</a>'\n",
              "            + ' to learn more about interactive tables.';\n",
              "          element.innerHTML = '';\n",
              "          dataTable['output_type'] = 'display_data';\n",
              "          await google.colab.output.renderOutput(dataTable, element);\n",
              "          const docLink = document.createElement('div');\n",
              "          docLink.innerHTML = docLinkHtml;\n",
              "          element.appendChild(docLink);\n",
              "        }\n",
              "      </script>\n",
              "    </div>\n",
              "  </div>\n",
              "  "
            ]
          },
          "metadata": {},
          "execution_count": 1
        }
      ]
    },
    {
      "cell_type": "markdown",
      "source": [
        "# Clustering Methods\n",
        "Cluster analysis is all about the kind of algorithms that can be used to find clusters automatically given the data. There are primarily two classes of clustering algorithm; they are as follows:\n",
        "\n",
        "\n",
        "\n",
        "1.  The **Hierarchical** Clustering algorithms\n",
        "2.  The **Partitional** Clustering algorithms\n",
        "\n",
        "<img src=\"https://static.packt-cdn.com/products/9781784399689/graphics/B03980_08_05.jpg\">\n",
        "\n",
        "The Hierarchical clustering algorithms define clusters that have a hierarchy, while the partitional clustering algorithms define clusters that divide the dataset into mutually disjoint partitions.\n",
        "# Clustering Types\n",
        "Hierarchical clustering is a method of clustering that seeks to build a hierarchy of clusters.\n",
        "\n",
        "There exist two types: **Divisive** and **Agglomerative** clustering.\n",
        "<img src=\"https://imgur.com/jKaG3X6.png\" width=400>\n",
        "\n"
      ],
      "metadata": {
        "id": "dPzyxn_FFljA"
      }
    },
    {
      "cell_type": "markdown",
      "source": [
        "# Why Pick Hierarchical Clustering?\n",
        "We may want to use hierarchical clustering when:\n",
        "*   We don't know beforehand the number of clusters.\n",
        "*   When the underlying data has a hierarchical structure.\n",
        "*   We want to visualize how the clusters are made.\n",
        "\n",
        "[Hierarchical](https://www.displayr.com/what-is-hierarchical-clustering/)\n",
        "\n",
        "\n",
        "\n"
      ],
      "metadata": {
        "id": "i0Hsd8h4Id7B"
      }
    },
    {
      "cell_type": "markdown",
      "source": [
        "# Divisive Clustering\n",
        "**Divisive**:\n",
        "\n",
        "1.   all observations start in one cluster.\n",
        "2.   splits are performed recursively until each observation ends in its own cluster or until K clusters are formed.\n",
        "\n",
        "\n"
      ],
      "metadata": {
        "id": "dGx4_vkYJHnL"
      }
    },
    {
      "cell_type": "markdown",
      "source": [
        "# Agglomerative Clustering\n",
        "**Agglomerative**:\n",
        "\n",
        "* Each observation starts in its own cluster.\n",
        "\n",
        "* Similar clusters are merged until they form one big cluster or until K clusters are formed A.\n",
        "\n",
        "In our course, we will study only the Agglomerative method, so let’s start by understanding in detail how it works.\n",
        "<img src=\"https://imgur.com/UrJ3wQw.png\" width=400>\n",
        "\n"
      ],
      "metadata": {
        "id": "C5S0IonVJfBh"
      }
    },
    {
      "cell_type": "markdown",
      "source": [
        "# Agglomerative Steps\n",
        "1.Let’s consider all six data points as **individual clusters**.\n",
        "\n",
        "2.We calculate the **distance matrix** which contains the distance between all the clusters.\n",
        "\n",
        "3.**Similar** clusters are **merged** together and formed as a **single cluster**.\n",
        "\n",
        "We repeat the second and third step until all the clusters are merged and form a single cluster or until K-clusters are formed\n",
        "\n",
        "But how do we determine the distance between two clusters?\n",
        "\n",
        "<img src=\"https://imgur.com/Ppj7hlR.png\" width=400>\n"
      ],
      "metadata": {
        "id": "uQDcFGmGJ963"
      }
    },
    {
      "cell_type": "markdown",
      "source": [
        "# Agglomerative Cluster distance\n",
        "There exist many methods for determining the distance between two clusters and one of them is the ***complete-linkage method***.\n",
        "\n",
        "In fact, with this method, the distance between two clusters is defined as **the longest distance between two points in each cluster**.\n",
        "\n",
        "Note here that we usually use the euclidean distance to calculate the distance between two points.\n",
        "[linkage method](https://www.geeksforgeeks.org/ml-types-of-linkages-in-clustering/)\n"
      ],
      "metadata": {
        "id": "cd6lPDNaKz5S"
      }
    },
    {
      "cell_type": "markdown",
      "source": [
        "# Agglomerative Visualization\n",
        "The main **output** of Hierarchical Clustering is a **Dendrogram**.\n",
        "\n",
        "We can use a dendrogram to:\n",
        "\n",
        "* Capture the hierarchical relationship between the clusters.\n",
        "\n",
        "* Understand how each cluster was made.\n",
        "\n",
        "* Choose the right value of the final K clusters\n",
        "\n",
        "<img src=\"https://imgur.com/waolqyn.png\" width=500>\n",
        "\n",
        "[link text](https://www.displayr.com/what-is-dendrogram/)"
      ],
      "metadata": {
        "id": "DmSpuETmQK48"
      }
    },
    {
      "cell_type": "code",
      "source": [
        "from sklearn.cluster import AgglomerativeClustering #Importing our clustering algorithm : Agglomerative\n",
        "model=AgglomerativeClustering(n_clusters=5, affinity='euclidean', linkage='complete')\n",
        "clust_labels=model.fit_predict(data)  #Applying agglomerative algorithm with 5 clusters, using euclidean distance as a metric"
      ],
      "metadata": {
        "id": "iwdIBGjzR-NP"
      },
      "execution_count": null,
      "outputs": []
    },
    {
      "cell_type": "markdown",
      "source": [
        "# Agglomerative label\n",
        "After we finished creating our clusters, we can print each point’s corresponding cluster."
      ],
      "metadata": {
        "id": "56FbgrSPSG2b"
      }
    },
    {
      "cell_type": "code",
      "source": [
        "agglomerative=pd.DataFrame(clust_labels)\n",
        "agglomerative"
      ],
      "metadata": {
        "colab": {
          "base_uri": "https://localhost:8080/",
          "height": 423
        },
        "id": "cVbs-edWSK6_",
        "outputId": "4acf39d4-b831-4918-a8ce-e85244bf3ad5"
      },
      "execution_count": null,
      "outputs": [
        {
          "output_type": "execute_result",
          "data": {
            "text/plain": [
              "     0\n",
              "0    4\n",
              "1    3\n",
              "2    4\n",
              "3    3\n",
              "4    4\n",
              "..  ..\n",
              "195  2\n",
              "196  0\n",
              "197  2\n",
              "198  0\n",
              "199  2\n",
              "\n",
              "[200 rows x 1 columns]"
            ],
            "text/html": [
              "\n",
              "  <div id=\"df-db1b8d26-11c0-4758-9aec-afbd575dce6c\">\n",
              "    <div class=\"colab-df-container\">\n",
              "      <div>\n",
              "<style scoped>\n",
              "    .dataframe tbody tr th:only-of-type {\n",
              "        vertical-align: middle;\n",
              "    }\n",
              "\n",
              "    .dataframe tbody tr th {\n",
              "        vertical-align: top;\n",
              "    }\n",
              "\n",
              "    .dataframe thead th {\n",
              "        text-align: right;\n",
              "    }\n",
              "</style>\n",
              "<table border=\"1\" class=\"dataframe\">\n",
              "  <thead>\n",
              "    <tr style=\"text-align: right;\">\n",
              "      <th></th>\n",
              "      <th>0</th>\n",
              "    </tr>\n",
              "  </thead>\n",
              "  <tbody>\n",
              "    <tr>\n",
              "      <th>0</th>\n",
              "      <td>4</td>\n",
              "    </tr>\n",
              "    <tr>\n",
              "      <th>1</th>\n",
              "      <td>3</td>\n",
              "    </tr>\n",
              "    <tr>\n",
              "      <th>2</th>\n",
              "      <td>4</td>\n",
              "    </tr>\n",
              "    <tr>\n",
              "      <th>3</th>\n",
              "      <td>3</td>\n",
              "    </tr>\n",
              "    <tr>\n",
              "      <th>4</th>\n",
              "      <td>4</td>\n",
              "    </tr>\n",
              "    <tr>\n",
              "      <th>...</th>\n",
              "      <td>...</td>\n",
              "    </tr>\n",
              "    <tr>\n",
              "      <th>195</th>\n",
              "      <td>2</td>\n",
              "    </tr>\n",
              "    <tr>\n",
              "      <th>196</th>\n",
              "      <td>0</td>\n",
              "    </tr>\n",
              "    <tr>\n",
              "      <th>197</th>\n",
              "      <td>2</td>\n",
              "    </tr>\n",
              "    <tr>\n",
              "      <th>198</th>\n",
              "      <td>0</td>\n",
              "    </tr>\n",
              "    <tr>\n",
              "      <th>199</th>\n",
              "      <td>2</td>\n",
              "    </tr>\n",
              "  </tbody>\n",
              "</table>\n",
              "<p>200 rows × 1 columns</p>\n",
              "</div>\n",
              "      <button class=\"colab-df-convert\" onclick=\"convertToInteractive('df-db1b8d26-11c0-4758-9aec-afbd575dce6c')\"\n",
              "              title=\"Convert this dataframe to an interactive table.\"\n",
              "              style=\"display:none;\">\n",
              "        \n",
              "  <svg xmlns=\"http://www.w3.org/2000/svg\" height=\"24px\"viewBox=\"0 0 24 24\"\n",
              "       width=\"24px\">\n",
              "    <path d=\"M0 0h24v24H0V0z\" fill=\"none\"/>\n",
              "    <path d=\"M18.56 5.44l.94 2.06.94-2.06 2.06-.94-2.06-.94-.94-2.06-.94 2.06-2.06.94zm-11 1L8.5 8.5l.94-2.06 2.06-.94-2.06-.94L8.5 2.5l-.94 2.06-2.06.94zm10 10l.94 2.06.94-2.06 2.06-.94-2.06-.94-.94-2.06-.94 2.06-2.06.94z\"/><path d=\"M17.41 7.96l-1.37-1.37c-.4-.4-.92-.59-1.43-.59-.52 0-1.04.2-1.43.59L10.3 9.45l-7.72 7.72c-.78.78-.78 2.05 0 2.83L4 21.41c.39.39.9.59 1.41.59.51 0 1.02-.2 1.41-.59l7.78-7.78 2.81-2.81c.8-.78.8-2.07 0-2.86zM5.41 20L4 18.59l7.72-7.72 1.47 1.35L5.41 20z\"/>\n",
              "  </svg>\n",
              "      </button>\n",
              "      \n",
              "  <style>\n",
              "    .colab-df-container {\n",
              "      display:flex;\n",
              "      flex-wrap:wrap;\n",
              "      gap: 12px;\n",
              "    }\n",
              "\n",
              "    .colab-df-convert {\n",
              "      background-color: #E8F0FE;\n",
              "      border: none;\n",
              "      border-radius: 50%;\n",
              "      cursor: pointer;\n",
              "      display: none;\n",
              "      fill: #1967D2;\n",
              "      height: 32px;\n",
              "      padding: 0 0 0 0;\n",
              "      width: 32px;\n",
              "    }\n",
              "\n",
              "    .colab-df-convert:hover {\n",
              "      background-color: #E2EBFA;\n",
              "      box-shadow: 0px 1px 2px rgba(60, 64, 67, 0.3), 0px 1px 3px 1px rgba(60, 64, 67, 0.15);\n",
              "      fill: #174EA6;\n",
              "    }\n",
              "\n",
              "    [theme=dark] .colab-df-convert {\n",
              "      background-color: #3B4455;\n",
              "      fill: #D2E3FC;\n",
              "    }\n",
              "\n",
              "    [theme=dark] .colab-df-convert:hover {\n",
              "      background-color: #434B5C;\n",
              "      box-shadow: 0px 1px 3px 1px rgba(0, 0, 0, 0.15);\n",
              "      filter: drop-shadow(0px 1px 2px rgba(0, 0, 0, 0.3));\n",
              "      fill: #FFFFFF;\n",
              "    }\n",
              "  </style>\n",
              "\n",
              "      <script>\n",
              "        const buttonEl =\n",
              "          document.querySelector('#df-db1b8d26-11c0-4758-9aec-afbd575dce6c button.colab-df-convert');\n",
              "        buttonEl.style.display =\n",
              "          google.colab.kernel.accessAllowed ? 'block' : 'none';\n",
              "\n",
              "        async function convertToInteractive(key) {\n",
              "          const element = document.querySelector('#df-db1b8d26-11c0-4758-9aec-afbd575dce6c');\n",
              "          const dataTable =\n",
              "            await google.colab.kernel.invokeFunction('convertToInteractive',\n",
              "                                                     [key], {});\n",
              "          if (!dataTable) return;\n",
              "\n",
              "          const docLinkHtml = 'Like what you see? Visit the ' +\n",
              "            '<a target=\"_blank\" href=https://colab.research.google.com/notebooks/data_table.ipynb>data table notebook</a>'\n",
              "            + ' to learn more about interactive tables.';\n",
              "          element.innerHTML = '';\n",
              "          dataTable['output_type'] = 'display_data';\n",
              "          await google.colab.output.renderOutput(dataTable, element);\n",
              "          const docLink = document.createElement('div');\n",
              "          docLink.innerHTML = docLinkHtml;\n",
              "          element.appendChild(docLink);\n",
              "        }\n",
              "      </script>\n",
              "    </div>\n",
              "  </div>\n",
              "  "
            ]
          },
          "metadata": {},
          "execution_count": 3
        }
      ]
    },
    {
      "cell_type": "markdown",
      "source": [
        "# Agglomerative cluster plot\n",
        "Each colored group represents a cluster.[link text](https://stackabuse.com/hierarchical-clustering-with-python-and-scikit-learn/)"
      ],
      "metadata": {
        "id": "K-VkF8tfSQdG"
      }
    },
    {
      "cell_type": "code",
      "source": [
        "import matplotlib.pyplot as plt\n",
        "fig =plt.figure()\n",
        "ax = fig.add_subplot(111)\n",
        "scatter = ax.scatter (data ['Annual Income (k$)'] , data [\"Spending Score (1-100)\"] , c= agglomerative[0], s=50)\n",
        "ax.set_title(\"Agglomerative Clutering\")\n",
        "ax.set_xlabel(\"Annual Income (k$)\")\n",
        "ax.set_ylabel(\"Spending Score (1-100)\")\n",
        "plt.colorbar(scatter)"
      ],
      "metadata": {
        "colab": {
          "base_uri": "https://localhost:8080/",
          "height": 312
        },
        "id": "kjg5gO6kScDn",
        "outputId": "60f0963d-d146-428f-d7be-c837f80a7d83"
      },
      "execution_count": null,
      "outputs": [
        {
          "output_type": "execute_result",
          "data": {
            "text/plain": [
              "<matplotlib.colorbar.Colorbar at 0x7f9ca4204e90>"
            ]
          },
          "metadata": {},
          "execution_count": 4
        },
        {
          "output_type": "display_data",
          "data": {
            "text/plain": [
              "<Figure size 432x288 with 2 Axes>"
            ],
            "image/png": "[encoded data removed]"
          },
          "metadata": {
            "needs_background": "light"
          }
        }
      ]
    },
    {
      "cell_type": "markdown",
      "source": [
        "# Agglomerative Cluster Interpretation\n",
        "* Customers in green: have a small annual income but they tend to spend a lot. We can call them the extravagants.\n",
        "\n",
        "* Customers in yellow: Customers with low income who don’t spend a lot. We can call them the cautious ones.\n",
        "\n",
        "* Customers in blue: Customers with an average income and average spending. They are normal customers.\n",
        "\n",
        "* Customers in light blue: Customers with high annual income and high spending score. They are generous customers.\n",
        "\n",
        "* Customers in purple: Customers with high annual income who don’t spend a lot. We can call them the cheap ones."
      ],
      "metadata": {
        "id": "f2XHW1eSS65t"
      }
    },
    {
      "cell_type": "markdown",
      "source": [
        "# Dendrogram Example"
      ],
      "metadata": {
        "id": "Efwt8xA8TQ9V"
      }
    },
    {
      "cell_type": "code",
      "source": [
        "\n",
        "import matplotlib.pyplot as plt\n",
        "import scipy.cluster.hierarchy as shc\n",
        "plt.figure(figsize=(10,7))\n",
        "plt.title(\"Customer Dendrograms\")\n",
        "dend=shc.dendrogram(shc.linkage(data, method=\"complete\"))"
      ],
      "metadata": {
        "colab": {
          "base_uri": "https://localhost:8080/",
          "height": 444
        },
        "id": "cPY4LSN-TNnY",
        "outputId": "03724757-548d-48b3-b761-fb8ef6e5087f"
      },
      "execution_count": null,
      "outputs": [
        {
          "output_type": "display_data",
          "data": {
            "text/plain": [
              "<Figure size 720x504 with 1 Axes>"
            ],
            "image/png": "[encoded data removed]"
          },
          "metadata": {
            "needs_background": "light"
          }
        }
      ]
    },
    {
      "cell_type": "markdown",
      "source": [
        "# RECAP\n",
        "* One of the multiple ways to perform clustering is by using **hierarchical clustering**.\n",
        "\n",
        "* In hierarchical clustering, there are two types: **divisive** and **agglomerative**.\n",
        "\n",
        "* To **visualize** how the groups are made we can use a **dendrogram**.\n",
        "[#hierarchical clustering](https://www.kdnuggets.com/2019/09/hierarchical-clustering.html)"
      ],
      "metadata": {
        "id": "Fxdnk0dpTzc1"
      }
    },
    {
      "cell_type": "markdown",
      "source": [
        "# Partitional Clustering\n",
        "Partitional clustering directly divides data objects into some pre-specified number of clusters without any hierarchical structure so that:\n",
        "\n",
        "* Each group contains at least one point.\n",
        "\n",
        "* Each point belongs to exactly one group.\n",
        "\n",
        "One of the partitional clustering algorithms is the k-means."
      ],
      "metadata": {
        "id": "GZu9ogJktgEo"
      }
    },
    {
      "cell_type": "markdown",
      "source": [
        "# K-means-when?\n",
        "K-Means clustering is best suited when you have a good **idea** of the **number** of distinct ** clusters** (groups) your unlabeled dataset should be segmented into.\n",
        "\n",
        "Generally, the output of K-Means is used in two ways.\n",
        "\n",
        "1. To separate your unlabeled data into K groups.\n",
        "\n",
        "2. To find and use the cluster’s centers, also called **centroids**.\n",
        "\n",
        "# K-means Concept\n",
        "The goal of the k-means algorithm is to find groups in the data, with the number of groups represented by the variable K.\n",
        "\n",
        "This algorithm is based on the concept that each cluster can be represented by its center.\n",
        "\n",
        "So to find these clusters, k-means starts by randomly assigning K-centers then tries to attach the nearest points to these centers.\n",
        "\n",
        "<img src=\"https://i.postimg.cc/52z89HZy/k4-Xcap-I-1.gif\">\n",
        "\n",
        "[link text](https://towardsdatascience.com/understanding-k-means-clustering-in-machine-learning-6a6e67336aa1)"
      ],
      "metadata": {
        "id": "YsoaTF9_QrH0"
      }
    },
    {
      "cell_type": "markdown",
      "source": [
        "# K-means Algorithm\n",
        "1. Initializes Cluster Centroids.\n",
        "\n",
        "2. Assigns data points to the Clusters with the nearest centroid, based on the **Euclidean distance**.\n",
        "\n",
        "3. Updates Cluster centroids: For each cluster, the **mean** of the values of all the points belonging to it, becomes **the new value of the centroid**.\n",
        "\n",
        "4. Finally, repeat steps 2–3 until the centroids stop updating.\n",
        "\n",
        "Note here that the name K-means comes from the fact that the mean value becomes the new value of the centroid."
      ],
      "metadata": {
        "id": "Hdk1YDVHSQ-c"
      }
    },
    {
      "cell_type": "code",
      "source": [
        "from sklearn.cluster import KMeans  #Importing our clustering algorithm: KMeans\n",
        "kmeans=KMeans(n_clusters=5, random_state=0)  #Cluster our data by choosing 5 as number of clusters\n",
        "kmeans.fit(data)"
      ],
      "metadata": {
        "colab": {
          "base_uri": "https://localhost:8080/"
        },
        "id": "4EadbJXaXeiF",
        "outputId": "7ffc1e71-eb51-48b0-83e5-c3b762041ac3"
      },
      "execution_count": null,
      "outputs": [
        {
          "output_type": "execute_result",
          "data": {
            "text/plain": [
              "KMeans(n_clusters=5, random_state=0)"
            ]
          },
          "metadata": {},
          "execution_count": 6
        }
      ]
    },
    {
      "cell_type": "markdown",
      "source": [
        "# K-means Labels\n",
        "This instruction enables us to print the label of each point in our data after the clustering is done.\n",
        "\n"
      ],
      "metadata": {
        "id": "HwEk0HlFYCoR"
      }
    },
    {
      "cell_type": "code",
      "source": [
        "labels=pd.DataFrame(kmeans.labels_)\n",
        "labels"
      ],
      "metadata": {
        "colab": {
          "base_uri": "https://localhost:8080/",
          "height": 423
        },
        "id": "WFl5oDQgYIvm",
        "outputId": "e2b9719f-101e-48b3-d124-0c16bd4bb34d"
      },
      "execution_count": null,
      "outputs": [
        {
          "output_type": "execute_result",
          "data": {
            "text/plain": [
              "     0\n",
              "0    0\n",
              "1    4\n",
              "2    0\n",
              "3    4\n",
              "4    0\n",
              "..  ..\n",
              "195  1\n",
              "196  3\n",
              "197  1\n",
              "198  3\n",
              "199  1\n",
              "\n",
              "[200 rows x 1 columns]"
            ],
            "text/html": [
              "\n",
              "  <div id=\"df-4f1cf484-183e-4ce9-92ba-adb5c6ec5c47\">\n",
              "    <div class=\"colab-df-container\">\n",
              "      <div>\n",
              "<style scoped>\n",
              "    .dataframe tbody tr th:only-of-type {\n",
              "        vertical-align: middle;\n",
              "    }\n",
              "\n",
              "    .dataframe tbody tr th {\n",
              "        vertical-align: top;\n",
              "    }\n",
              "\n",
              "    .dataframe thead th {\n",
              "        text-align: right;\n",
              "    }\n",
              "</style>\n",
              "<table border=\"1\" class=\"dataframe\">\n",
              "  <thead>\n",
              "    <tr style=\"text-align: right;\">\n",
              "      <th></th>\n",
              "      <th>0</th>\n",
              "    </tr>\n",
              "  </thead>\n",
              "  <tbody>\n",
              "    <tr>\n",
              "      <th>0</th>\n",
              "      <td>0</td>\n",
              "    </tr>\n",
              "    <tr>\n",
              "      <th>1</th>\n",
              "      <td>4</td>\n",
              "    </tr>\n",
              "    <tr>\n",
              "      <th>2</th>\n",
              "      <td>0</td>\n",
              "    </tr>\n",
              "    <tr>\n",
              "      <th>3</th>\n",
              "      <td>4</td>\n",
              "    </tr>\n",
              "    <tr>\n",
              "      <th>4</th>\n",
              "      <td>0</td>\n",
              "    </tr>\n",
              "    <tr>\n",
              "      <th>...</th>\n",
              "      <td>...</td>\n",
              "    </tr>\n",
              "    <tr>\n",
              "      <th>195</th>\n",
              "      <td>1</td>\n",
              "    </tr>\n",
              "    <tr>\n",
              "      <th>196</th>\n",
              "      <td>3</td>\n",
              "    </tr>\n",
              "    <tr>\n",
              "      <th>197</th>\n",
              "      <td>1</td>\n",
              "    </tr>\n",
              "    <tr>\n",
              "      <th>198</th>\n",
              "      <td>3</td>\n",
              "    </tr>\n",
              "    <tr>\n",
              "      <th>199</th>\n",
              "      <td>1</td>\n",
              "    </tr>\n",
              "  </tbody>\n",
              "</table>\n",
              "<p>200 rows × 1 columns</p>\n",
              "</div>\n",
              "      <button class=\"colab-df-convert\" onclick=\"convertToInteractive('df-4f1cf484-183e-4ce9-92ba-adb5c6ec5c47')\"\n",
              "              title=\"Convert this dataframe to an interactive table.\"\n",
              "              style=\"display:none;\">\n",
              "        \n",
              "  <svg xmlns=\"http://www.w3.org/2000/svg\" height=\"24px\"viewBox=\"0 0 24 24\"\n",
              "       width=\"24px\">\n",
              "    <path d=\"M0 0h24v24H0V0z\" fill=\"none\"/>\n",
              "    <path d=\"M18.56 5.44l.94 2.06.94-2.06 2.06-.94-2.06-.94-.94-2.06-.94 2.06-2.06.94zm-11 1L8.5 8.5l.94-2.06 2.06-.94-2.06-.94L8.5 2.5l-.94 2.06-2.06.94zm10 10l.94 2.06.94-2.06 2.06-.94-2.06-.94-.94-2.06-.94 2.06-2.06.94z\"/><path d=\"M17.41 7.96l-1.37-1.37c-.4-.4-.92-.59-1.43-.59-.52 0-1.04.2-1.43.59L10.3 9.45l-7.72 7.72c-.78.78-.78 2.05 0 2.83L4 21.41c.39.39.9.59 1.41.59.51 0 1.02-.2 1.41-.59l7.78-7.78 2.81-2.81c.8-.78.8-2.07 0-2.86zM5.41 20L4 18.59l7.72-7.72 1.47 1.35L5.41 20z\"/>\n",
              "  </svg>\n",
              "      </button>\n",
              "      \n",
              "  <style>\n",
              "    .colab-df-container {\n",
              "      display:flex;\n",
              "      flex-wrap:wrap;\n",
              "      gap: 12px;\n",
              "    }\n",
              "\n",
              "    .colab-df-convert {\n",
              "      background-color: #E8F0FE;\n",
              "      border: none;\n",
              "      border-radius: 50%;\n",
              "      cursor: pointer;\n",
              "      display: none;\n",
              "      fill: #1967D2;\n",
              "      height: 32px;\n",
              "      padding: 0 0 0 0;\n",
              "      width: 32px;\n",
              "    }\n",
              "\n",
              "    .colab-df-convert:hover {\n",
              "      background-color: #E2EBFA;\n",
              "      box-shadow: 0px 1px 2px rgba(60, 64, 67, 0.3), 0px 1px 3px 1px rgba(60, 64, 67, 0.15);\n",
              "      fill: #174EA6;\n",
              "    }\n",
              "\n",
              "    [theme=dark] .colab-df-convert {\n",
              "      background-color: #3B4455;\n",
              "      fill: #D2E3FC;\n",
              "    }\n",
              "\n",
              "    [theme=dark] .colab-df-convert:hover {\n",
              "      background-color: #434B5C;\n",
              "      box-shadow: 0px 1px 3px 1px rgba(0, 0, 0, 0.15);\n",
              "      filter: drop-shadow(0px 1px 2px rgba(0, 0, 0, 0.3));\n",
              "      fill: #FFFFFF;\n",
              "    }\n",
              "  </style>\n",
              "\n",
              "      <script>\n",
              "        const buttonEl =\n",
              "          document.querySelector('#df-4f1cf484-183e-4ce9-92ba-adb5c6ec5c47 button.colab-df-convert');\n",
              "        buttonEl.style.display =\n",
              "          google.colab.kernel.accessAllowed ? 'block' : 'none';\n",
              "\n",
              "        async function convertToInteractive(key) {\n",
              "          const element = document.querySelector('#df-4f1cf484-183e-4ce9-92ba-adb5c6ec5c47');\n",
              "          const dataTable =\n",
              "            await google.colab.kernel.invokeFunction('convertToInteractive',\n",
              "                                                     [key], {});\n",
              "          if (!dataTable) return;\n",
              "\n",
              "          const docLinkHtml = 'Like what you see? Visit the ' +\n",
              "            '<a target=\"_blank\" href=https://colab.research.google.com/notebooks/data_table.ipynb>data table notebook</a>'\n",
              "            + ' to learn more about interactive tables.';\n",
              "          element.innerHTML = '';\n",
              "          dataTable['output_type'] = 'display_data';\n",
              "          await google.colab.output.renderOutput(dataTable, element);\n",
              "          const docLink = document.createElement('div');\n",
              "          docLink.innerHTML = docLinkHtml;\n",
              "          element.appendChild(docLink);\n",
              "        }\n",
              "      </script>\n",
              "    </div>\n",
              "  </div>\n",
              "  "
            ]
          },
          "metadata": {},
          "execution_count": 7
        }
      ]
    },
    {
      "cell_type": "markdown",
      "source": [
        "# K-means Centroids\n",
        "\n",
        "In our example, we have chosen k = 5 then we will have 5 centers.\n"
      ],
      "metadata": {
        "id": "m3MTRjrbYlyz"
      }
    },
    {
      "cell_type": "code",
      "source": [
        "kmeans.predict(data)\n",
        "print(kmeans.cluster_centers_)   #Printing the coordinates of cluster centers.\n",
        "\n",
        "#Each inner list represents the coordinates of a cluster center."
      ],
      "metadata": {
        "colab": {
          "base_uri": "https://localhost:8080/"
        },
        "id": "v2MGKcdHYpPn",
        "outputId": "b6d8beb1-8c7d-4d8a-b11f-51524ebc756e"
      },
      "execution_count": null,
      "outputs": [
        {
          "output_type": "stream",
          "name": "stdout",
          "text": [
            "[[ 0.39130435 45.2173913  26.30434783 20.91304348]\n",
            " [ 0.46153846 32.69230769 86.53846154 82.12820513]\n",
            " [ 0.41772152 43.08860759 55.29113924 49.56962025]\n",
            " [ 0.52777778 40.66666667 87.75       17.58333333]\n",
            " [ 0.39130435 25.52173913 26.30434783 78.56521739]]\n"
          ]
        }
      ]
    },
    {
      "cell_type": "code",
      "source": [
        "kmeans.cluster_centers_.shape"
      ],
      "metadata": {
        "colab": {
          "base_uri": "https://localhost:8080/"
        },
        "id": "LIde_GAyNqwB",
        "outputId": "75a75535-c079-445c-ccdb-5c14cf638bcd"
      },
      "execution_count": null,
      "outputs": [
        {
          "output_type": "execute_result",
          "data": {
            "text/plain": [
              "(5, 4)"
            ]
          },
          "metadata": {},
          "execution_count": 9
        }
      ]
    },
    {
      "cell_type": "code",
      "source": [
        "data['label']=labels"
      ],
      "metadata": {
        "id": "LMO4aNfKL0ti"
      },
      "execution_count": null,
      "outputs": []
    },
    {
      "cell_type": "markdown",
      "source": [
        "# K-means plot\n",
        "Each colored group represents a cluster."
      ],
      "metadata": {
        "id": "aMA96JD7ZEaG"
      }
    },
    {
      "cell_type": "code",
      "source": [
        "import numpy as np\n",
        "\n",
        "plt.scatter(data[\"Annual Income (k$)\"][data.label == 0],          \n",
        "            data[\"Spending Score (1-100)\"][data.label == 0],s=80,c='magenta',label='Careful')\n",
        "plt.scatter(data[\"Annual Income (k$)\"][data.label == 1],\n",
        "           data[\"Spending Score (1-100)\"][data.label == 1],s=80,c='yellow',label='Standard')\n",
        "plt.scatter(data[\"Annual Income (k$)\"][data.label == 2],\n",
        "           data[\"Spending Score (1-100)\"][data.label == 2],s=80,c='green',label='Target')\n",
        "plt.scatter(data[\"Annual Income (k$)\"][data.label == 3], \n",
        "           data[\"Spending Score (1-100)\"][data.label == 3],s=80,c='cyan',label='Careless')\n",
        "plt.scatter(data[\"Annual Income (k$)\"][data.label == 4], \n",
        "           data[\"Spending Score (1-100)\"][data.label == 4],s=80,c='burlywood',label='Sensible')\n",
        "centers = np.array(kmeans.cluster_centers_)\n",
        "plt.scatter(centers[:,2],centers[:,3], s=300, c='red', label = 'Centroids')\n",
        "plt.title('Clusters of Customers')\n",
        "plt.xlabel('Annual Income(k$)')\n",
        "plt.ylabel('Spending Score(1-100')\n",
        "plt.legend()\n",
        "plt.show()"
      ],
      "metadata": {
        "colab": {
          "base_uri": "https://localhost:8080/",
          "height": 295
        },
        "id": "PohavkzhZGfg",
        "outputId": "c88162fc-712e-4a64-eac8-baebbd1086e1"
      },
      "execution_count": null,
      "outputs": [
        {
          "output_type": "display_data",
          "data": {
            "text/plain": [
              "<Figure size 432x288 with 1 Axes>"
            ],
            "image/png": "[encoded data removed]"
          },
          "metadata": {
            "needs_background": "light"
          }
        }
      ]
    },
    {
      "cell_type": "markdown",
      "source": [
        "# Best k value\n",
        "One of the most challenging tasks that we may encounter while using K-means is the choice of the number of clusters.\n",
        "\n",
        "One of the methods used to determine the **best K- value** is the **Elbow method** which is based on the idea that to have a good quality of a cluster:\n",
        "\n",
        "The observation attached to that cluster must be as close as possible to the cluster center.\n",
        "\n",
        "We will use **SSE**, **Sum Squared Error**, in this method to determine the sum of the squared difference between the cluster center and each observation related to that cluster.\n",
        "\n",
        "It’s logical then to assume that we will try to **minimize SSE**.\n",
        "# The Elbow Method\n",
        "The idea of the Elbow method is to run k-means clustering on the dataset for a range of values of k, and for each value of k calculate SSE.\n",
        "\n",
        "In this example, we have chosen **K=3** as the best K-value.\n",
        "\n",
        "But on what basis was this choice made?\n",
        "\n",
        "It’s logical then to assume that we will try to **minimize SSE**.\n",
        "\n",
        "<img src=\"https://i.postimg.cc/C5tfSY7b/pasted-image-0-1.png\" width=400>"
      ],
      "metadata": {
        "id": "s8ix3fFNh8hE"
      }
    },
    {
      "cell_type": "markdown",
      "source": [
        "# The Elbow method: k- value\n",
        "The optimal number of clusters corresponds to the **optimal minimum** value of SSE.\n",
        "\n",
        "Note here that the reason it is named the elbow method is that the optimum minimum value of SSE would represent an elbow joint.\n",
        "\n",
        "[elbow](https://www.scikit-yb.org/en/latest/api/cluster/elbow.html)"
      ],
      "metadata": {
        "id": "1oNwAFUXjOjk"
      }
    },
    {
      "cell_type": "code",
      "source": [
        "#calculating the distance of each point from its closest cluster\n",
        "\n",
        "Sum_of_squared_distances=[]\n",
        "K= range(1,15)\n",
        "for k in K:\n",
        "  km= KMeans(n_clusters=k)\n",
        "  km= km.fit(data)\n",
        "  Sum_of_squared_distances.append(km.inertia_)\n",
        "\n",
        "#plotting\n",
        "plt.plot(K, Sum_of_squared_distances,'bx-')\n",
        "plt.xlabel('k')\n",
        "plt.ylabel('Sum_of_squared_distances')\n",
        "plt.title('Elbow Method For Optimal k')\n",
        "plt.show()"
      ],
      "metadata": {
        "colab": {
          "base_uri": "https://localhost:8080/",
          "height": 295
        },
        "id": "vDx79kAsmLql",
        "outputId": "7dc7e7b3-74a8-402e-faee-ed86613c91b2"
      },
      "execution_count": null,
      "outputs": [
        {
          "output_type": "display_data",
          "data": {
            "text/plain": [
              "<Figure size 432x288 with 1 Axes>"
            ],
            "image/png": "[encoded data removed]"
          },
          "metadata": {
            "needs_background": "light"
          }
        }
      ]
    },
    {
      "cell_type": "markdown",
      "source": [
        "the k value is 5\n",
        "\n",
        "# K-means VS Hierarchical clustering\n",
        "In this case, both clustering algorithms did a great job finding the clusters but with slight differences at the edges of each cluster.\n",
        "\n",
        "[#difference](https://www.geeksforgeeks.org/difference-between-k-means-and-hierarchical-clustering/)\n",
        "\n",
        "Thanks to clustering we can create new labels.\n",
        "# K means pros\n",
        "* Easy to implement.\n",
        "\n",
        "* With a large number of variables, K-Means may be computationally faster than hierarchical clustering (if K is small).\n",
        "\n",
        "* k-Means may produce tighter clusters than hierarchical clustering.\n",
        "\n",
        "* An instance can change a cluster (move to another cluster) when the centroids are recomputed.\n",
        "\n",
        "# K means Cons\n",
        "* Difficult to predict the number of clusters(K-Value).\n",
        "\n",
        "* Initial seeds have a strong impact on the final results.\n",
        "\n",
        "* The order of the data has an impact on the final results.\n",
        "\n",
        "* Sensitive to scale: rescaling your datasets (normalization or standardization) will completely change results. While this itself is not bad, not realizing that you have to spend extra attention to scaling your data might be bad.\n",
        "# RECAP\n",
        "* Kmeans is a **clustering** algorithm.\n",
        "\n",
        "* It functions based on **centroids** and **distances** between centroids and data.\n",
        "\n",
        "* Finding the **best K value** can be challenging sometimes that's why we can use the **elbow method**.\n"
      ],
      "metadata": {
        "id": "n6rFig_-o_iD"
      }
    }
  ]
}